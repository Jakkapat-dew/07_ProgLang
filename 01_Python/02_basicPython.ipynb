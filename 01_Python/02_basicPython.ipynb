{
 "cells": [
  {
   "cell_type": "code",
   "execution_count": null,
   "id": "99e92111",
   "metadata": {},
   "outputs": [
    {
     "name": "stdout",
     "output_type": "stream",
     "text": [
      "Hello World\n"
     ]
    }
   ],
   "source": [
    "textToPrint = \"Hello World\";\n",
    "print(textToPrint)"
   ]
  },
  {
   "cell_type": "code",
   "execution_count": null,
   "id": "0eabfe16",
   "metadata": {},
   "outputs": [],
   "source": [
    "# formatted printing\n",
    "name = \"\"\n",
    "print(f\"Hello, {name}!\")"
   ]
  },
  {
   "cell_type": "code",
   "execution_count": 21,
   "id": "b6749b02",
   "metadata": {},
   "outputs": [
    {
     "name": "stdout",
     "output_type": "stream",
     "text": [
      "1\n"
     ]
    }
   ],
   "source": [
    "x = 1 \n",
    "+x\n",
    "print(x)"
   ]
  },
  {
   "cell_type": "code",
   "execution_count": 15,
   "id": "f07551aa",
   "metadata": {},
   "outputs": [
    {
     "name": "stdout",
     "output_type": "stream",
     "text": [
      "Hello World\n",
      "60\n"
     ]
    }
   ],
   "source": [
    "a = \"  Hello World  \";\n",
    "a = a.strip();\n",
    "print(a);\n",
    "print(a.__sizeof__());"
   ]
  },
  {
   "cell_type": "code",
   "execution_count": 25,
   "id": "d4492a79",
   "metadata": {},
   "outputs": [
    {
     "name": "stdout",
     "output_type": "stream",
     "text": [
      "[0, 1, 2, 3, 4, 5, 6]\n"
     ]
    },
    {
     "data": {
      "text/plain": [
       "[3, 4, 5]"
      ]
     },
     "execution_count": 25,
     "metadata": {},
     "output_type": "execute_result"
    }
   ],
   "source": [
    "ls_a = [1, 2, 3, 4, 5];\n",
    "ls_a.append(6);\n",
    "ls_a.insert(0,0);\n",
    "print(ls_a);\n",
    "ls_a[0:2]\n",
    "ls_a[3:6]"
   ]
  },
  {
   "cell_type": "code",
   "execution_count": 31,
   "id": "c6d1640b",
   "metadata": {},
   "outputs": [
    {
     "name": "stdout",
     "output_type": "stream",
     "text": [
      "John\n",
      "30\n",
      "name : John\n",
      "age : 30\n",
      "city : New York\n"
     ]
    }
   ],
   "source": [
    "dict_a = {\"name\": \"John\", \"age\": 30, \"city\": \"New York\"};\n",
    "print(dict_a[\"name\"]);\n",
    "print(dict_a[\"age\"]);\n",
    "for key,val in dict_a.items():\n",
    "    print(key, \":\", val);\n"
   ]
  },
  {
   "cell_type": "code",
   "execution_count": null,
   "id": "c06d25fb",
   "metadata": {},
   "outputs": [
    {
     "name": "stdout",
     "output_type": "stream",
     "text": [
      "x += y  : 12\n"
     ]
    }
   ],
   "source": [
    "x = 10\n",
    "y = 2\n",
    "print(f\"x += y  : {x += y}\")\n",
    "# print(f\"x ++    :\" {x++})\n",
    "# print(f\"x -= y  :\" {x -= y})\n",
    "# print(f\"x * y   :\" {x * y})\n",
    "# print(f\"x / y   :\" {x / y})\n",
    "# print(f\"x % y   :\" {x % y})\n",
    "# print(f\"x // y  :\" {x // y})\n",
    "# print(f\"x ** y  :\" {x ** y})"
   ]
  },
  {
   "cell_type": "code",
   "execution_count": 34,
   "id": "4eb01d93",
   "metadata": {},
   "outputs": [
    {
     "name": "stdout",
     "output_type": "stream",
     "text": [
      "3.1\n"
     ]
    }
   ],
   "source": [
    "def add(x, y):\n",
    "    return x + y;\n",
    "\n",
    "print(add(x=1, y=2.1));"
   ]
  },
  {
   "cell_type": "code",
   "execution_count": null,
   "id": "19b0899a",
   "metadata": {},
   "outputs": [
    {
     "name": "stdout",
     "output_type": "stream",
     "text": [
      "3\n"
     ]
    }
   ],
   "source": [
    "def add_integer(x:int, y:int) -> int:\n",
    "    \"\"\"Function to add two integers.\n",
    "    Arguments:           \n",
    "        x (int): First integer.\n",
    "        y (int): Second integer.\n",
    "    Returns:\n",
    "        int: Sum of x and y.\n",
    "    \"\"\"\n",
    "    return int(x + y);\n",
    "\n",
    "\n",
    "sum = add_integer(x=1, y=2)\n",
    "print(sum);"
   ]
  },
  {
   "cell_type": "code",
   "execution_count": 46,
   "id": "54622ace",
   "metadata": {},
   "outputs": [
    {
     "data": {
      "text/plain": [
       "3"
      ]
     },
     "execution_count": 46,
     "metadata": {},
     "output_type": "execute_result"
    }
   ],
   "source": [
    "add_integer(1, 2)"
   ]
  },
  {
   "cell_type": "code",
   "execution_count": 49,
   "id": "98aabe34",
   "metadata": {},
   "outputs": [
    {
     "name": "stdout",
     "output_type": "stream",
     "text": [
      "a\n",
      "b\n",
      "c\n",
      "1\n"
     ]
    }
   ],
   "source": [
    "def printArgumentValue(*argv):\n",
    "    for arg in argv:\n",
    "        print(arg)\n",
    "\n",
    "printArgumentValue('a', 'b', 'c', 1)"
   ]
  },
  {
   "cell_type": "code",
   "execution_count": 56,
   "id": "c0b371b8",
   "metadata": {},
   "outputs": [
    {
     "name": "stdout",
     "output_type": "stream",
     "text": [
      "param MotherNationality = USA\n",
      "param FatherNationality = USB\n",
      "param ChildNationality = TypeC\n"
     ]
    }
   ],
   "source": [
    "def printNationality(**kwargs):\n",
    "    for key, value in kwargs.items():\n",
    "        print(\"param %s = %s\" % (key, value))\n",
    "\n",
    "# call\n",
    "printNationality(MotherNationality='USA', FatherNationality='USB', ChildNationality='TypeC')\n"
   ]
  },
  {
   "cell_type": "code",
   "execution_count": 57,
   "id": "cfaff6ba",
   "metadata": {},
   "outputs": [
    {
     "name": "stdout",
     "output_type": "stream",
     "text": [
      "param MotherNationality = USA\n",
      "param FatherNationality = USB\n"
     ]
    }
   ],
   "source": [
    "printNationality(MotherNationality='USA', FatherNationality='USB')"
   ]
  },
  {
   "cell_type": "code",
   "execution_count": 84,
   "id": "fed35f4a",
   "metadata": {},
   "outputs": [],
   "source": [
    "class Person:\n",
    "    def __init__(self, name, age):\n",
    "        self.name = name \n",
    "        self.__age = age\n",
    "\n",
    "    def showInfo(self):\n",
    "        print(f\"Hello, my name is {self.name} and I am {self.age} years old.\")\n",
    "    \n",
    "    @property\n",
    "    def age(self):\n",
    "        return self.__age\n",
    "    \n",
    "    @age.setter\n",
    "    def age(self, age): \n",
    "        self.__age = age"
   ]
  },
  {
   "cell_type": "code",
   "execution_count": 85,
   "id": "cfbdaa71",
   "metadata": {},
   "outputs": [
    {
     "name": "stdout",
     "output_type": "stream",
     "text": [
      "Hello, my name is Sathon and I am 30 years old.\n",
      "Sathon\n",
      "30\n"
     ]
    }
   ],
   "source": [
    "person_1 = Person(name=\"Sathon\", age=30)\n",
    "person_1.showInfo()\n",
    "print(person_1.name) \n",
    "print(person_1.age)"
   ]
  },
  {
   "cell_type": "code",
   "execution_count": 83,
   "id": "07764f27",
   "metadata": {},
   "outputs": [
    {
     "name": "stdout",
     "output_type": "stream",
     "text": [
      "Sasithon\n",
      "31\n"
     ]
    }
   ],
   "source": [
    "person_1.name = \"Sasithon\"\n",
    "person_1.age = 31;\n",
    "print(person_1.name)\n",
    "print(person_1.age)\n"
   ]
  },
  {
   "cell_type": "code",
   "execution_count": 186,
   "id": "81c2036e",
   "metadata": {},
   "outputs": [],
   "source": [
    "class Person:\n",
    "    \"\"\"A class to represent a person.\"\"\"\n",
    "    def __init__(self, name, nickname, age):\n",
    "        self.name = name            # public attribute\n",
    "        self._nickname = nickname   # protected attribute\n",
    "        self.__age = age            # private attribute\n",
    "\n",
    "    @property\n",
    "    def age(self):\n",
    "        return self.__age\n",
    "\n",
    "    @age.setter\n",
    "    def age(self, age):\n",
    "        self.__age = age\n",
    "        \n",
    "    def _showInfo(self):\n",
    "        print(f\"name: {self.name}, nick_ nickname: {self._nickname}, age: {self.__age}\")\n",
    "        \n",
    "    def _calYearsOfBirth(self):\n",
    "        return 2025 - self.__age\n"
   ]
  },
  {
   "cell_type": "code",
   "execution_count": 187,
   "id": "ee19c8f3",
   "metadata": {},
   "outputs": [
    {
     "name": "stdout",
     "output_type": "stream",
     "text": [
      "Sathon\n",
      "Sasithon\n"
     ]
    }
   ],
   "source": [
    "# protected attribute\n",
    "person_2 = Person(name=\"Sathon\", nickname=\"Sak\", age=30)\n",
    "print(person_2.name)\n",
    "# edit attribute\n",
    "person_2.name = \"Sasithon\"\n",
    "print(person_2.name)"
   ]
  },
  {
   "cell_type": "code",
   "execution_count": 188,
   "id": "449e900a",
   "metadata": {},
   "outputs": [
    {
     "name": "stdout",
     "output_type": "stream",
     "text": [
      "Sak\n",
      "Sak\n"
     ]
    }
   ],
   "source": [
    "# protected attribute\n",
    "person_2 = Person(name=\"Sathon\", nickname=\"Sak\", age=30)\n",
    "print(person_2._nickname)  # Accessing protected attribute\n",
    "# edit attribute\n",
    "person_2.nickname = \"Sod\"\n",
    "print(person_2._nickname)"
   ]
  },
  {
   "cell_type": "code",
   "execution_count": 189,
   "id": "a39310f2",
   "metadata": {},
   "outputs": [
    {
     "name": "stdout",
     "output_type": "stream",
     "text": [
      "Sak\n",
      "Sod\n"
     ]
    }
   ],
   "source": [
    "# protected attribute\n",
    "person_2 = Person(name=\"Sathon\", nickname=\"Sak\", age=30)\n",
    "print(person_2._nickname)  # Accessing protected attribute\n",
    "# edit attribute\n",
    "person_2._nickname = \"Sod\"\n",
    "print(person_2._nickname)"
   ]
  },
  {
   "cell_type": "code",
   "execution_count": 190,
   "id": "d44d02b4",
   "metadata": {},
   "outputs": [
    {
     "name": "stdout",
     "output_type": "stream",
     "text": [
      "30\n",
      "31\n"
     ]
    }
   ],
   "source": [
    "# private attribute\n",
    "person_2 = Person(name=\"Sathon\", nickname=\"Sak\", age=30)\n",
    "print(person_2.age)\n",
    "# edit attribute\n",
    "person_2.age = 31\n",
    "print(person_2.age)"
   ]
  },
  {
   "cell_type": "code",
   "execution_count": 191,
   "id": "9335ca7f",
   "metadata": {},
   "outputs": [],
   "source": [
    "class Employee(Person):\n",
    "    # Class variable\n",
    "    _companyName = \"JTechCorp\"\n",
    "    def __init__(self, name, nickname, age, department, employee_id):\n",
    "        super().__init__(name, nickname, age)   # inherrit the constructor of the parent class\n",
    "        self._employee_id = employee_id\n",
    "        self._department = department\n",
    "        self.__salary = 10000\n",
    "        \n",
    "    def _showInfo(self):\n",
    "        super()._showInfo()\n",
    "        print(\"Department: \", self._department)\n",
    "        print(\"Employee ID: \", self._employee_id)\n",
    "        print(\"Salary: \", self.__salary)\n",
    "        print(\"Company Name: \", self._companyName)"
   ]
  },
  {
   "cell_type": "code",
   "execution_count": 192,
   "id": "77a5b5e2",
   "metadata": {},
   "outputs": [
    {
     "name": "stdout",
     "output_type": "stream",
     "text": [
      "name: Saksit, nick_ nickname: A, age: 24\n",
      "Department:  Programmer\n",
      "Employee ID:  A123\n",
      "Salary:  10000\n",
      "Company Name:  JTechCorp\n"
     ]
    }
   ],
   "source": [
    "emp_1 = Employee(name=\"Saksit\", \n",
    "                 nickname=\"A\", \n",
    "                 age=24, \n",
    "                 department=\"Programmer\", \n",
    "                 employee_id=\"A123\")\n",
    "emp_1._showInfo()"
   ]
  },
  {
   "cell_type": "code",
   "execution_count": 193,
   "id": "94c290b5",
   "metadata": {},
   "outputs": [
    {
     "data": {
      "text/plain": [
       "2001"
      ]
     },
     "execution_count": 193,
     "metadata": {},
     "output_type": "execute_result"
    }
   ],
   "source": [
    "emp_1._calYearsOfBirth()"
   ]
  },
  {
   "cell_type": "code",
   "execution_count": 205,
   "id": "9d339267",
   "metadata": {},
   "outputs": [],
   "source": [
    "from abc import ABC, abstractmethod\n",
    "\n",
    "class Person(ABC):\n",
    "    \"\"\"A class to represent a person.\"\"\"\n",
    "    def __init__(self, name, age):\n",
    "        self.name = name\n",
    "        self.__age = age\n",
    "\n",
    "    @property\n",
    "    def age(self):\n",
    "        return self.__age\n",
    "\n",
    "    @age.setter\n",
    "    def age(self, age):\n",
    "        self.__age = age\n",
    "\n",
    "    def showInfo(self):\n",
    "        print(f\"name: {self.name}, age: {self.age}\")\n",
    "    \n",
    "    @abstractmethod\n",
    "    def _calYearsOfBirth(self):\n",
    "        return 2025 - self.__age"
   ]
  },
  {
   "cell_type": "code",
   "execution_count": null,
   "id": "89c0f3a5",
   "metadata": {},
   "outputs": [
    {
     "ename": "TypeError",
     "evalue": "Can't instantiate abstract class Person with abstract method _calYearsOfBirth",
     "output_type": "error",
     "traceback": [
      "\u001b[1;31m---------------------------------------------------------------------------\u001b[0m",
      "\u001b[1;31mTypeError\u001b[0m                                 Traceback (most recent call last)",
      "Cell \u001b[1;32mIn[200], line 1\u001b[0m\n\u001b[1;32m----> 1\u001b[0m mm \u001b[38;5;241m=\u001b[39m \u001b[43mPerson\u001b[49m\u001b[43m(\u001b[49m\u001b[43mname\u001b[49m\u001b[38;5;241;43m=\u001b[39;49m\u001b[38;5;124;43m\"\u001b[39;49m\u001b[38;5;124;43mSathon\u001b[39;49m\u001b[38;5;124;43m\"\u001b[39;49m\u001b[43m,\u001b[49m\u001b[43m \u001b[49m\u001b[43mage\u001b[49m\u001b[38;5;241;43m=\u001b[39;49m\u001b[38;5;241;43m30\u001b[39;49m\u001b[43m)\u001b[49m\n",
      "\u001b[1;31mTypeError\u001b[0m: Can't instantiate abstract class Person with abstract method _calYearsOfBirth"
     ]
    }
   ],
   "source": [
    "p1 = Person(name=\"Sathon\", age=30)"
   ]
  },
  {
   "cell_type": "code",
   "execution_count": 206,
   "id": "fa6b07da",
   "metadata": {},
   "outputs": [],
   "source": [
    "class Programmer(Person):\n",
    "    def __init__(self, name, age, programming_language):\n",
    "        super().__init__(name, age)\n",
    "        self.programming_language = programming_language\n",
    "\n",
    "    def showInfo(self):\n",
    "        super().showInfo()\n",
    "        print(f\"programming_language: {self.programming_language}.\")\n",
    "        \n",
    "    def _calYearsOfBirth(self):\n",
    "        return 2025 - self.age"
   ]
  },
  {
   "cell_type": "code",
   "execution_count": 207,
   "id": "15961380",
   "metadata": {},
   "outputs": [
    {
     "name": "stdout",
     "output_type": "stream",
     "text": [
      "name: Sathon, age: 30\n",
      "programming_language: Python.\n"
     ]
    }
   ],
   "source": [
    "p1 = Programmer(name=\"Sathon\", age=30, programming_language=\"Python\")\n",
    "p1.showInfo()"
   ]
  },
  {
   "cell_type": "code",
   "execution_count": 208,
   "id": "219e5b6a",
   "metadata": {},
   "outputs": [
    {
     "data": {
      "text/plain": [
       "False"
      ]
     },
     "execution_count": 208,
     "metadata": {},
     "output_type": "execute_result"
    }
   ],
   "source": [
    "import numpy as np\n",
    "x = [1, 1, 1, 2, 3, 4, 5, 6, 2]\n",
    "np.unique(x).size == len(x)"
   ]
  },
  {
   "cell_type": "code",
   "execution_count": 209,
   "id": "a12d8577",
   "metadata": {},
   "outputs": [
    {
     "data": {
      "text/plain": [
       "6"
      ]
     },
     "execution_count": 209,
     "metadata": {},
     "output_type": "execute_result"
    }
   ],
   "source": [
    "np.unique(x).size"
   ]
  }
 ],
 "metadata": {
  "kernelspec": {
   "display_name": "AITraining2022",
   "language": "python",
   "name": "python3"
  },
  "language_info": {
   "codemirror_mode": {
    "name": "ipython",
    "version": 3
   },
   "file_extension": ".py",
   "mimetype": "text/x-python",
   "name": "python",
   "nbconvert_exporter": "python",
   "pygments_lexer": "ipython3",
   "version": "3.9.19"
  }
 },
 "nbformat": 4,
 "nbformat_minor": 5
}
